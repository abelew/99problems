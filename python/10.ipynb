{
 "cells": [
  {
   "cell_type": "markdown",
   "metadata": {
    "ein.tags": [
     "worksheet-0"
    ],
    "slideshow": {
     "slide_type": "-"
    }
   },
   "source": [
    "Problem 10\n",
    "=========\n",
    "\n",
    "Run length encoding of a list.\n",
    "Use problem 09 to implement run-length data encoding compresion.\n",
    "\n",
    "(encode '(a a a a a a b c c c a a d e e e e))\n",
    "\n",
    "'((6 a) (1 b) (3 c) (2 a) (1 d) (4 e))\n",
    "\n",
    "Start with the list, then the packer"
   ]
  },
  {
   "cell_type": "code",
   "execution_count": 2,
   "metadata": {
    "autoscroll": "json-false",
    "ein.tags": [
     "worksheet-0"
    ],
    "slideshow": {
     "slide_type": "-"
    }
   },
   "outputs": [
    {
     "data": {
      "text/plain": [
       "['a', 'a', 'a', 'a', 'a', 'b', 'c', 'c', 'c', 'd', 'e', 'c', 'e', 'e', 'e']"
      ]
     },
     "execution_count": 2,
     "metadata": {},
     "output_type": "execute_result"
    }
   ],
   "source": [
    "lst = [\"a\",\"a\",\"a\",\"a\",\"a\",\"b\",\"c\",\"c\",\"c\",\"d\",\"e\",\"c\",\"e\",\"e\",\"e\"]\n",
    "lst"
   ]
  },
  {
   "cell_type": "code",
   "execution_count": 3,
   "metadata": {
    "autoscroll": "json-false",
    "ein.tags": [
     "worksheet-0"
    ],
    "slideshow": {
     "slide_type": "-"
    }
   },
   "outputs": [
    {
     "name": "stdout",
     "output_type": "stream",
     "text": [
      "The final list is: [['a', 'a', 'a', 'a', 'a'], ['b'], ['c', 'c', 'c'], ['d'], ['e'], ['c'], ['e', 'e', 'e']]\n",
      "\n"
     ]
    },
    {
     "data": {
      "text/plain": [
       "[['a', 'a', 'a', 'a', 'a'],\n",
       " ['b'],\n",
       " ['c', 'c', 'c'],\n",
       " ['d'],\n",
       " ['e'],\n",
       " ['c'],\n",
       " ['e', 'e', 'e']]"
      ]
     },
     "execution_count": 3,
     "metadata": {},
     "output_type": "execute_result"
    }
   ],
   "source": [
    "def pack(a_list):\n",
    "    i = 0\n",
    "    added_counter = 0\n",
    "    sub_counter = 0\n",
    "    n = len(a_list)\n",
    "    new_list = list()\n",
    "    final_list = list()\n",
    "    while i < n:\n",
    "        element = a_list[i]\n",
    "        i = i + 1\n",
    "        if (i < n):\n",
    "            next = a_list[i]\n",
    "            added_counter = added_counter + 1\n",
    "            if (element == next):\n",
    "                new_list.insert(added_counter, element)\n",
    "            else:\n",
    "                new_list.insert(added_counter, element)\n",
    "                final_list.insert(sub_counter, new_list)\n",
    "                sub_counter = sub_counter + 1\n",
    "                new_list = list()\n",
    "                added_counter = 1\n",
    "        elif (i == n):\n",
    "            last = a_list[i - 2]\n",
    "            if (element == last):\n",
    "                new_list.insert(added_counter, element)\n",
    "                final_list.insert(sub_counter, new_list)\n",
    "            else:\n",
    "                final_list.insert(sub_counter, new_list)\n",
    "                sub_counter = sub_counter + 1\n",
    "                new_list = list()\n",
    "                new_list.insert(1, element)\n",
    "                final_list.insert(sub_counter, new_list)\n",
    "        else:\n",
    "            print(\"Somehow i got bigger than n!\\n\")\n",
    "    print(\"The final list is: \" + str(final_list) + \"\\n\")\n",
    "    return(final_list)\n",
    "\n",
    "inter_list = pack(lst)\n",
    "inter_list"
   ]
  },
  {
   "cell_type": "markdown",
   "metadata": {
    "ein.tags": [
     "worksheet-0"
    ],
    "slideshow": {
     "slide_type": "-"
    }
   },
   "source": [
    "# Ok, so we have a packed lsit, now just count the elements and recreate it."
   ]
  },
  {
   "cell_type": "code",
   "execution_count": 4,
   "metadata": {
    "autoscroll": "json-false",
    "ein.tags": [
     "worksheet-0"
    ],
    "scrolled": true,
    "slideshow": {
     "slide_type": "-"
    }
   },
   "outputs": [
    {
     "name": "stdout",
     "output_type": "stream",
     "text": [
      "[5, 'a']\n",
      "[1, 'b']\n",
      "[3, 'c']\n",
      "[1, 'd']\n",
      "[1, 'e']\n",
      "[1, 'c']\n",
      "[3, 'e']\n",
      "[]\n"
     ]
    }
   ],
   "source": [
    "def encode(a_list):\n",
    "    i = 0\n",
    "    n = len(a_list)\n",
    "    final_list = list()\n",
    "    while (i < n):\n",
    "          element = a_list[i]  ## Get the packed portion.\n",
    "          sublist_length = len(element)\n",
    "          sublist_type = element[0]\n",
    "          new_list = list()\n",
    "          new_list.insert(0, sublist_length)\n",
    "          new_list.insert(1, sublist_type)\n",
    "          #final_list.insert(i, new_list)\n",
    "          print(new_list)\n",
    "          i = i + 1\n",
    "    return(final_list)\n",
    "\n",
    "final_list = encode(inter_list)\n",
    "print(final_list)\n"
   ]
  },
  {
   "cell_type": "code",
   "execution_count": 5,
   "metadata": {
    "autoscroll": "json-false",
    "ein.tags": [
     "worksheet-0"
    ],
    "slideshow": {
     "slide_type": "-"
    }
   },
   "outputs": [
    {
     "data": {
      "text/plain": [
       "2"
      ]
     },
     "execution_count": 5,
     "metadata": {},
     "output_type": "execute_result"
    }
   ],
   "source": [
    "1+1"
   ]
  }
 ],
 "metadata": {
  "kernelspec": {
   "display_name": "Python 3",
   "language": "python",
   "name": "python3"
  },
  "language_info": {
   "codemirror_mode": {
    "name": "ipython",
    "version": 3
   },
   "file_extension": ".py",
   "mimetype": "text/x-python",
   "name": "python",
   "nbconvert_exporter": "python",
   "pygments_lexer": "ipython3",
   "version": "3.5.3"
  },
  "name": "Untitled2.ipynb"
 },
 "nbformat": 4,
 "nbformat_minor": 2
}
